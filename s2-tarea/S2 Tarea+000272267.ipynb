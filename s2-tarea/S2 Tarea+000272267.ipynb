{
 "cells": [
  {
   "cell_type": "markdown",
   "id": "766de070",
   "metadata": {},
   "source": [
    "# S2 Tarea\n",
    "1. Consiga una imagen que tenga ruido gaussiano y aplique el filtro de media para solucionar el ruido."
   ]
  },
  {
   "cell_type": "code",
   "execution_count": null,
   "id": "7ce3a9e6",
   "metadata": {
    "vscode": {
     "languageId": "plaintext"
    }
   },
   "outputs": [],
   "source": []
  },
  {
   "cell_type": "code",
   "execution_count": null,
   "id": "b927ae8d",
   "metadata": {},
   "outputs": [],
   "source": [
    "import cv2\n",
    "import numpy as np\n",
    "import matplotlib.pyplot as plt\n",
    "\n",
    "# Load an image\n",
    "img = cv2.imread('image.jpg', cv2.IMREAD_GRAYSCALE)\n",
    "\n",
    "# Add Gaussian noise to the image\n",
    "noise = np.random.normal(0, 25, img.shape).astype(np.uint8)\n",
    "noisy_img = cv2.add(img, noise)\n",
    "\n",
    "# Apply mean filter to reduce noise\n",
    "kernel_size = 5\n",
    "filtered_img = cv2.blur(noisy_img, (kernel_size, kernel_size))\n",
    "\n",
    "# Display results\n",
    "plt.figure(figsize=(15, 5))\n",
    "plt.subplot(1, 3, 1)\n",
    "plt.imshow(img, cmap='gray')\n",
    "plt.title('Original Image')\n",
    "plt.axis('off')\n",
    "\n",
    "plt.subplot(1, 3, 2)\n",
    "plt.imshow(noisy_img, cmap='gray')\n",
    "plt.title('Image with Gaussian Noise')\n",
    "plt.axis('off')\n",
    "\n",
    "plt.subplot(1, 3, 3)\n",
    "plt.imshow(filtered_img, cmap='gray')\n",
    "plt.title('Image after Mean Filter')\n",
    "plt.axis('off')\n",
    "\n",
    "plt.tight_layout()\n",
    "plt.show()"
   ]
  }
 ],
 "metadata": {
  "language_info": {
   "name": "python"
  }
 },
 "nbformat": 4,
 "nbformat_minor": 5
}
